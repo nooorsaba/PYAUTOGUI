{
 "cells": [
  {
   "cell_type": "markdown",
   "id": "1ae7b047",
   "metadata": {},
   "source": [
    "# PYAUTOGUI"
   ]
  },
  {
   "cell_type": "code",
   "execution_count": 1,
   "id": "1150ec9a",
   "metadata": {},
   "outputs": [
    {
     "name": "stdout",
     "output_type": "stream",
     "text": [
      "Requirement already satisfied: pyautogui in c:\\users\\abc\\anaconda3\\lib\\site-packages (0.9.53)\n",
      "Requirement already satisfied: PyTweening>=1.0.1 in c:\\users\\abc\\anaconda3\\lib\\site-packages (from pyautogui) (1.0.4)\n",
      "Requirement already satisfied: pymsgbox in c:\\users\\abc\\anaconda3\\lib\\site-packages (from pyautogui) (1.0.9)\n",
      "Requirement already satisfied: pygetwindow>=0.0.5 in c:\\users\\abc\\anaconda3\\lib\\site-packages (from pyautogui) (0.0.9)\n",
      "Requirement already satisfied: pyscreeze>=0.1.21 in c:\\users\\abc\\anaconda3\\lib\\site-packages (from pyautogui) (0.1.28)\n",
      "Requirement already satisfied: mouseinfo in c:\\users\\abc\\anaconda3\\lib\\site-packages (from pyautogui) (0.1.3)\n",
      "Requirement already satisfied: pyrect in c:\\users\\abc\\anaconda3\\lib\\site-packages (from pygetwindow>=0.0.5->pyautogui) (0.2.0)\n",
      "Requirement already satisfied: pyperclip in c:\\users\\abc\\anaconda3\\lib\\site-packages (from mouseinfo->pyautogui) (1.8.2)\n",
      "Note: you may need to restart the kernel to use updated packages.\n"
     ]
    }
   ],
   "source": [
    "pip install pyautogui"
   ]
  },
  {
   "cell_type": "code",
   "execution_count": 2,
   "id": "8fd3783d",
   "metadata": {},
   "outputs": [],
   "source": [
    "import pyautogui"
   ]
  },
  {
   "cell_type": "code",
   "execution_count": 4,
   "id": "b73c0826",
   "metadata": {},
   "outputs": [
    {
     "data": {
      "text/plain": [
       "Size(width=1366, height=768)"
      ]
     },
     "execution_count": 4,
     "metadata": {},
     "output_type": "execute_result"
    }
   ],
   "source": [
    "pyautogui.size()"
   ]
  },
  {
   "cell_type": "code",
   "execution_count": 5,
   "id": "2ac64871",
   "metadata": {},
   "outputs": [
    {
     "data": {
      "text/plain": [
       "Point(x=449, y=648)"
      ]
     },
     "execution_count": 5,
     "metadata": {},
     "output_type": "execute_result"
    }
   ],
   "source": [
    "pyautogui.position()"
   ]
  },
  {
   "cell_type": "code",
   "execution_count": 14,
   "id": "123dc537",
   "metadata": {},
   "outputs": [],
   "source": [
    "pyautogui.moveTo(5,5,duration=6)"
   ]
  },
  {
   "cell_type": "code",
   "execution_count": 72,
   "id": "c4895a3d",
   "metadata": {},
   "outputs": [],
   "source": [
    "pyautogui.click(x=648, y=12,button='left', clicks=1, interval=2, duration=3)\n",
    "pyautogui.click(x=143, y=611, button='left', clicks=1, interval=2, duration=2)\n"
   ]
  },
  {
   "cell_type": "code",
   "execution_count": 31,
   "id": "3404a6cb",
   "metadata": {},
   "outputs": [],
   "source": [
    "pyautogui.FAILSAFE=False"
   ]
  },
  {
   "cell_type": "code",
   "execution_count": null,
   "id": "32881345",
   "metadata": {},
   "outputs": [],
   "source": [
    "pyautogui.dragTo(x,y,duration=)"
   ]
  },
  {
   "cell_type": "code",
   "execution_count": 39,
   "id": "b17eae35",
   "metadata": {},
   "outputs": [],
   "source": [
    "pyautogui.dragRel(300,10,duration=4)"
   ]
  },
  {
   "cell_type": "code",
   "execution_count": 40,
   "id": "1c1a9512",
   "metadata": {},
   "outputs": [],
   "source": [
    "pyautogui.moveRel(300,10,duration=4)"
   ]
  },
  {
   "cell_type": "code",
   "execution_count": 49,
   "id": "c7808623",
   "metadata": {},
   "outputs": [],
   "source": [
    "screenshot = pyautogui.screenshot(\"fullscreen.png\")"
   ]
  },
  {
   "cell_type": "code",
   "execution_count": 69,
   "id": "63241300",
   "metadata": {},
   "outputs": [
    {
     "data": {
      "text/plain": [
       "Point(x=143, y=603)"
      ]
     },
     "execution_count": 69,
     "metadata": {},
     "output_type": "execute_result"
    }
   ],
   "source": [
    "pyautogui.position()"
   ]
  }
 ],
 "metadata": {
  "kernelspec": {
   "display_name": "Python 3 (ipykernel)",
   "language": "python",
   "name": "python3"
  },
  "language_info": {
   "codemirror_mode": {
    "name": "ipython",
    "version": 3
   },
   "file_extension": ".py",
   "mimetype": "text/x-python",
   "name": "python",
   "nbconvert_exporter": "python",
   "pygments_lexer": "ipython3",
   "version": "3.9.13"
  }
 },
 "nbformat": 4,
 "nbformat_minor": 5
}
